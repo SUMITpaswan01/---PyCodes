{
 "cells": [
  {
   "cell_type": "code",
   "execution_count": null,
   "id": "7eb4aaac-4e96-4ab9-887b-fef75ce2edc6",
   "metadata": {},
   "outputs": [],
   "source": [
    "#Question-1"
   ]
  },
  {
   "cell_type": "code",
   "execution_count": 1,
   "id": "7746b2a6-195c-406b-a895-bcaf33088965",
   "metadata": {},
   "outputs": [],
   "source": [
    "s = \"sumit\" #string\n",
    "l = [1,2,3,]  #list\n",
    "x = 23.56  #float\n",
    "tup = (2,3 ,56, 'sumit' , True)   #tuple"
   ]
  },
  {
   "cell_type": "code",
   "execution_count": 6,
   "id": "37d3bf2b-911b-4b9c-bdd8-3fa71e44d52b",
   "metadata": {},
   "outputs": [
    {
     "data": {
      "text/plain": [
       "str"
      ]
     },
     "execution_count": 6,
     "metadata": {},
     "output_type": "execute_result"
    }
   ],
   "source": [
    "type(s)"
   ]
  },
  {
   "cell_type": "code",
   "execution_count": 3,
   "id": "923602a2-3258-4ecb-8708-d6825ddadbfa",
   "metadata": {},
   "outputs": [
    {
     "data": {
      "text/plain": [
       "list"
      ]
     },
     "execution_count": 3,
     "metadata": {},
     "output_type": "execute_result"
    }
   ],
   "source": [
    "type(l)"
   ]
  },
  {
   "cell_type": "code",
   "execution_count": 4,
   "id": "750714a4-a2c4-4f80-806d-4c3dc7218e75",
   "metadata": {},
   "outputs": [
    {
     "data": {
      "text/plain": [
       "float"
      ]
     },
     "execution_count": 4,
     "metadata": {},
     "output_type": "execute_result"
    }
   ],
   "source": [
    "type(x)"
   ]
  },
  {
   "cell_type": "code",
   "execution_count": 9,
   "id": "57aa6e07-789e-4ea3-9b57-9f9eab03e2a0",
   "metadata": {},
   "outputs": [
    {
     "data": {
      "text/plain": [
       "tuple"
      ]
     },
     "execution_count": 9,
     "metadata": {},
     "output_type": "execute_result"
    }
   ],
   "source": [
    "type(tup)"
   ]
  },
  {
   "cell_type": "code",
   "execution_count": 2,
   "id": "fbcd5bb6-ab9c-42a7-8ee7-3321984d5bc6",
   "metadata": {},
   "outputs": [],
   "source": [
    "#....................Question-2............................"
   ]
  },
  {
   "cell_type": "code",
   "execution_count": 11,
   "id": "fe3ba468-1daf-4766-a573-4020759e9478",
   "metadata": {},
   "outputs": [],
   "source": [
    "Var1 = ''\n",
    "Var2 = '[DS, ML, Python]'\n",
    "Var3 = ['DS', 'ML', 'Python']\n",
    "Var4 = 1"
   ]
  },
  {
   "cell_type": "code",
   "execution_count": 12,
   "id": "217fdc7c-51ab-43bf-8f68-e95c0c7ce604",
   "metadata": {},
   "outputs": [
    {
     "data": {
      "text/plain": [
       "str"
      ]
     },
     "execution_count": 12,
     "metadata": {},
     "output_type": "execute_result"
    }
   ],
   "source": [
    "type(Var1)"
   ]
  },
  {
   "cell_type": "code",
   "execution_count": 13,
   "id": "b8182eec-556a-4f94-bcd4-5757a5b996b1",
   "metadata": {},
   "outputs": [
    {
     "data": {
      "text/plain": [
       "str"
      ]
     },
     "execution_count": 13,
     "metadata": {},
     "output_type": "execute_result"
    }
   ],
   "source": [
    "type(Var2)"
   ]
  },
  {
   "cell_type": "code",
   "execution_count": 14,
   "id": "826f063c-91e7-450b-a67c-26a64de8a145",
   "metadata": {},
   "outputs": [
    {
     "data": {
      "text/plain": [
       "list"
      ]
     },
     "execution_count": 14,
     "metadata": {},
     "output_type": "execute_result"
    }
   ],
   "source": [
    "type(Var3)"
   ]
  },
  {
   "cell_type": "code",
   "execution_count": 15,
   "id": "6c3c06b5-cf61-42d3-8026-af08bd4aa280",
   "metadata": {},
   "outputs": [
    {
     "data": {
      "text/plain": [
       "int"
      ]
     },
     "execution_count": 15,
     "metadata": {},
     "output_type": "execute_result"
    }
   ],
   "source": [
    "type(Var4)"
   ]
  },
  {
   "cell_type": "code",
   "execution_count": 3,
   "id": "b2b8717a-7bc8-4344-b193-28ffc0d1df1f",
   "metadata": {},
   "outputs": [],
   "source": [
    "#.....................Question-3.........................."
   ]
  },
  {
   "cell_type": "code",
   "execution_count": 17,
   "id": "55225abf-5c25-4229-9e7e-6440fdb42ada",
   "metadata": {},
   "outputs": [],
   "source": [
    "a = 4\n",
    "b = 2"
   ]
  },
  {
   "cell_type": "code",
   "execution_count": 23,
   "id": "3bdec72c-2c41-4211-a5bc-3401543b0cb5",
   "metadata": {},
   "outputs": [
    {
     "data": {
      "text/plain": [
       "2.0"
      ]
     },
     "execution_count": 23,
     "metadata": {},
     "output_type": "execute_result"
    }
   ],
   "source": [
    "a/b    #Division Operator"
   ]
  },
  {
   "cell_type": "code",
   "execution_count": 24,
   "id": "396fa288-bcce-4b98-be5c-ae938fc70bac",
   "metadata": {},
   "outputs": [
    {
     "data": {
      "text/plain": [
       "0"
      ]
     },
     "execution_count": 24,
     "metadata": {},
     "output_type": "execute_result"
    }
   ],
   "source": [
    "a%b    #Modulus Operator"
   ]
  },
  {
   "cell_type": "code",
   "execution_count": 25,
   "id": "fc6e5ec4-e7f9-4eb2-bef8-2bac22199aa7",
   "metadata": {},
   "outputs": [
    {
     "data": {
      "text/plain": [
       "2"
      ]
     },
     "execution_count": 25,
     "metadata": {},
     "output_type": "execute_result"
    }
   ],
   "source": [
    "a//b   #Floor Operator"
   ]
  },
  {
   "cell_type": "code",
   "execution_count": 22,
   "id": "9bbc123a-8782-4e3c-b71f-e914ee3a7d4f",
   "metadata": {},
   "outputs": [
    {
     "data": {
      "text/plain": [
       "16"
      ]
     },
     "execution_count": 22,
     "metadata": {},
     "output_type": "execute_result"
    }
   ],
   "source": [
    "a**b    #Exponentiation Opertor"
   ]
  },
  {
   "cell_type": "code",
   "execution_count": 26,
   "id": "13eb1e4a-68b5-4d05-805b-b93488934d70",
   "metadata": {},
   "outputs": [],
   "source": [
    "#...................Question-4..........................."
   ]
  },
  {
   "cell_type": "code",
   "execution_count": 28,
   "id": "9b60def4-a36d-4a1f-a84a-3cabfe7a4ed5",
   "metadata": {},
   "outputs": [
    {
     "name": "stdout",
     "output_type": "stream",
     "text": [
      "2\n",
      "<class 'int'>\n",
      "3\n",
      "<class 'int'>\n",
      "4\n",
      "<class 'int'>\n",
      "56\n",
      "<class 'int'>\n",
      "sumit\n",
      "<class 'str'>\n",
      "34.5\n",
      "<class 'float'>\n",
      "True\n",
      "<class 'bool'>\n",
      "(2+3j)\n",
      "<class 'complex'>\n",
      "(2, 4, 7, 4)\n",
      "<class 'tuple'>\n",
      "[5, 7, 9, 0]\n",
      "<class 'list'>\n"
     ]
    }
   ],
   "source": [
    "l =[2,3,4,56,'sumit', 34.5, True, 2+3j,(2,4,7,4,), [5,7,9,0] ]\n",
    "for i in l:\n",
    "    print(i)\n",
    "    print(type(i))"
   ]
  },
  {
   "cell_type": "code",
   "execution_count": 29,
   "id": "6a0e883a-03cc-4e7b-8b74-61129d377550",
   "metadata": {},
   "outputs": [],
   "source": [
    "#.......................Question-6......................"
   ]
  },
  {
   "cell_type": "code",
   "execution_count": 1,
   "id": "3df989f5-a8f4-495a-80dc-556eace2ec45",
   "metadata": {},
   "outputs": [
    {
     "name": "stdout",
     "output_type": "stream",
     "text": [
      "3 is divisble by 3\n",
      "5 is not divisble by 3\n",
      "6 is divisble by 3\n",
      "8 is not divisble by 3\n",
      "9 is divisble by 3\n",
      "11 is not divisble by 3\n",
      "12 is divisble by 3\n",
      "15 is divisble by 3\n",
      "17 is not divisble by 3\n",
      "20 is not divisble by 3\n",
      "21 is divisble by 3\n",
      "24 is divisble by 3\n",
      "25 is not divisble by 3\n",
      "36 is divisble by 3\n",
      "45 is divisble by 3\n",
      "349 is not divisble by 3\n",
      "55 is not divisble by 3\n",
      "60 is divisble by 3\n",
      "65 is not divisble by 3\n",
      "99 is divisble by 3\n",
      "76 is not divisble by 3\n",
      "80 is not divisble by 3\n",
      "84 is divisble by 3\n",
      "100 is not divisble by 3\n",
      "105 is divisble by 3\n"
     ]
    }
   ],
   "source": [
    "l = [3,5,6,8,9,11,12,15,17,20,21,24,25,36,45,349,55,60,65,99,76,80,84,100,105]\n",
    "for i in l:\n",
    "    if i%3 == 0:\n",
    "        print(i,'is divisble by 3')\n",
    "    else :\n",
    "        print(i,'is not divisble by 3')"
   ]
  },
  {
   "cell_type": "code",
   "execution_count": 1,
   "id": "19767d1a-3a6c-4a1c-917a-421892340836",
   "metadata": {},
   "outputs": [],
   "source": [
    "#................Question-7.............."
   ]
  },
  {
   "cell_type": "code",
   "execution_count": 5,
   "id": "fa5b6e2c-6276-4235-a9b2-cfd7b7eeca32",
   "metadata": {},
   "outputs": [],
   "source": [
    "# Mutable- it means that we can  alter or change the value after the creation. For example-list"
   ]
  },
  {
   "cell_type": "code",
   "execution_count": 9,
   "id": "44ebdf5f-4e50-4855-b330-5bc9eefc7fc6",
   "metadata": {},
   "outputs": [],
   "source": [
    "l1 = [11,45,1 ,2,4,1,1]"
   ]
  },
  {
   "cell_type": "code",
   "execution_count": 12,
   "id": "6578b6fd-314d-4b57-898c-e2c06f9b0faa",
   "metadata": {},
   "outputs": [],
   "source": [
    "l1.append(7)  #----->Adding element in list"
   ]
  },
  {
   "cell_type": "code",
   "execution_count": 11,
   "id": "eaf0a1e4-3f76-40eb-a2dc-35364fe93b75",
   "metadata": {},
   "outputs": [
    {
     "data": {
      "text/plain": [
       "[11, 45, 1, 2, 4, 1, 1, 7]"
      ]
     },
     "execution_count": 11,
     "metadata": {},
     "output_type": "execute_result"
    }
   ],
   "source": [
    "l1"
   ]
  },
  {
   "cell_type": "code",
   "execution_count": 13,
   "id": "ec8ce3c0-f403-44a8-9acc-02ca51f80450",
   "metadata": {},
   "outputs": [],
   "source": [
    "#Immutable- it means that we can not alter 0r change the value after the creation .For example-string"
   ]
  },
  {
   "cell_type": "code",
   "execution_count": 16,
   "id": "cee340d7-13cc-4d0b-99be-cb01b7f993dc",
   "metadata": {},
   "outputs": [
    {
     "name": "stdout",
     "output_type": "stream",
     "text": [
      "5\n"
     ]
    }
   ],
   "source": [
    "name = 'sumit'\n",
    "print(len(name))"
   ]
  },
  {
   "cell_type": "code",
   "execution_count": 19,
   "id": "01182858-34fd-499b-9f5c-7aa21657e1d3",
   "metadata": {},
   "outputs": [
    {
     "name": "stdout",
     "output_type": "stream",
     "text": [
      "SUMIT\n"
     ]
    }
   ],
   "source": [
    "print(name.upper())"
   ]
  },
  {
   "cell_type": "code",
   "execution_count": 20,
   "id": "7c9f0cde-9813-43a8-b7d4-baad1c149947",
   "metadata": {},
   "outputs": [
    {
     "name": "stdout",
     "output_type": "stream",
     "text": [
      "sumit\n"
     ]
    }
   ],
   "source": [
    "print(name.lower())"
   ]
  },
  {
   "cell_type": "code",
   "execution_count": 21,
   "id": "65804f1f-13e9-4562-bb4e-30f31768481f",
   "metadata": {},
   "outputs": [],
   "source": [
    "#................Question-5..........."
   ]
  },
  {
   "cell_type": "code",
   "execution_count": 22,
   "id": "ad2863e5-d737-4449-b647-85640ead9a6e",
   "metadata": {},
   "outputs": [
    {
     "name": "stdout",
     "output_type": "stream",
     "text": [
      "yes 33 is completely by 3\n",
      "11.0 times it is divisible\n"
     ]
    }
   ],
   "source": [
    "a =33\n",
    "b = 3\n",
    "i = a%b\n",
    "while i==0:\n",
    "    print('yes',a,'is completely by 3')\n",
    "    x = a/b\n",
    "    print(x,'times it is divisible')\n",
    "    break"
   ]
  },
  {
   "cell_type": "code",
   "execution_count": null,
   "id": "927af104-8645-44c8-bd2b-94797471714a",
   "metadata": {},
   "outputs": [],
   "source": []
  }
 ],
 "metadata": {
  "kernelspec": {
   "display_name": "Python 3 (ipykernel)",
   "language": "python",
   "name": "python3"
  },
  "language_info": {
   "codemirror_mode": {
    "name": "ipython",
    "version": 3
   },
   "file_extension": ".py",
   "mimetype": "text/x-python",
   "name": "python",
   "nbconvert_exporter": "python",
   "pygments_lexer": "ipython3",
   "version": "3.10.8"
  }
 },
 "nbformat": 4,
 "nbformat_minor": 5
}
