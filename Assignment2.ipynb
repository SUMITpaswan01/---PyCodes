{
 "cells": [
  {
   "cell_type": "code",
   "execution_count": 1,
   "id": "c9d55aa3-e094-4ded-9a18-603f96b130e1",
   "metadata": {},
   "outputs": [],
   "source": [
    "#......Question-1......."
   ]
  },
  {
   "cell_type": "code",
   "execution_count": 3,
   "id": "2fa5a8f3-db73-4e33-97a0-66c9d252994e",
   "metadata": {},
   "outputs": [
    {
     "name": "stdout",
     "output_type": "stream",
     "text": [
      "Sumit\n"
     ]
    }
   ],
   "source": [
    "# In python we can comment a code using symbol # & ''' ''' . For example- \n",
    "# create a variable\n",
    "Name = 'Sumit'\n",
    "# print the value\n",
    "print(Name) \n",
    "\n",
    "# there are two type of comment in python :-\n",
    "# 1.single-line comment ----> #\n",
    "# 2.multi-line comment ----> ''' '''"
   ]
  },
  {
   "cell_type": "code",
   "execution_count": 4,
   "id": "e3bc1131-9c9e-46a0-98e7-203030b17f29",
   "metadata": {},
   "outputs": [],
   "source": [
    "#.....Question-2......"
   ]
  },
  {
   "cell_type": "code",
   "execution_count": null,
   "id": "64fe745b-2a21-4bf7-95d0-18fc85afa65d",
   "metadata": {},
   "outputs": [],
   "source": [
    "# Variable- It the space which is locate in the memory to story the any type of value like int, float, str, etc.\n",
    "# declare and initialize two variable\n",
    "num1 = 5\n",
    "num2 = 9"
   ]
  },
  {
   "cell_type": "code",
   "execution_count": 6,
   "id": "fe3cd680-2101-4cdb-9362-de6228ba0773",
   "metadata": {},
   "outputs": [],
   "source": [
    "#.....Question-3......"
   ]
  },
  {
   "cell_type": "code",
   "execution_count": 6,
   "id": "0198ca07-d200-4ea3-88f7-d3cecd065b27",
   "metadata": {},
   "outputs": [],
   "source": [
    "# we can convert one type into another type with - int(), flaot() and complex() methods . For example-"
   ]
  },
  {
   "cell_type": "code",
   "execution_count": 7,
   "id": "b2062aa3-ab19-4bcb-aebd-5dd1cdc8c2ff",
   "metadata": {},
   "outputs": [],
   "source": [
    "num_int = 20\n",
    "num_float = 30.55\n",
    "num_complex = 2 + 3j\n"
   ]
  },
  {
   "cell_type": "code",
   "execution_count": 8,
   "id": "b233014c-6bf7-4dd2-9044-648c0cc2918d",
   "metadata": {},
   "outputs": [
    {
     "name": "stdout",
     "output_type": "stream",
     "text": [
      "<class 'int'>\n",
      "<class 'float'>\n"
     ]
    }
   ],
   "source": [
    "# convert int into float\n",
    "print(type(num_int))\n",
    "num_int = float(num_float)\n",
    "print(type(num_int))"
   ]
  },
  {
   "cell_type": "code",
   "execution_count": 10,
   "id": "b2d64bdd-71e3-42cf-8ee8-26948af85cfa",
   "metadata": {},
   "outputs": [],
   "source": [
    "#......Question-5......"
   ]
  },
  {
   "cell_type": "code",
   "execution_count": 11,
   "id": "48c78aa6-3c5a-4d6a-b242-eb1e831d90a2",
   "metadata": {},
   "outputs": [],
   "source": [
    "l = [1,2,3,4,5]"
   ]
  },
  {
   "cell_type": "code",
   "execution_count": 12,
   "id": "1ea7545d-790e-43e3-ab3c-252407cd0ad1",
   "metadata": {},
   "outputs": [
    {
     "name": "stdout",
     "output_type": "stream",
     "text": [
      "[2, 3]\n"
     ]
    }
   ],
   "source": [
    "print(l[1:3])"
   ]
  },
  {
   "cell_type": "code",
   "execution_count": 13,
   "id": "2caa2079-407e-4010-aa92-7dcd787e8c8f",
   "metadata": {},
   "outputs": [],
   "source": [
    "#.....Question-6....."
   ]
  },
  {
   "cell_type": "code",
   "execution_count": 14,
   "id": "32d55beb-b069-4ad0-b24a-04c5ee1010e0",
   "metadata": {},
   "outputs": [],
   "source": [
    "#complex number in the mathematics --> a combination of real number and an imaginary number\n",
    "# complex number represent in python \n",
    "x = 2 + 5j"
   ]
  },
  {
   "cell_type": "code",
   "execution_count": 16,
   "id": "ffe9d290-732c-4595-9287-5a9866d45223",
   "metadata": {},
   "outputs": [],
   "source": [
    "#.....Question-7......"
   ]
  },
  {
   "cell_type": "code",
   "execution_count": 1,
   "id": "ada2cb66-6d08-49b6-b6e1-b01ea7fefb10",
   "metadata": {},
   "outputs": [],
   "source": [
    "# we can declare a variable by their name \n",
    "age = 25"
   ]
  },
  {
   "cell_type": "code",
   "execution_count": 2,
   "id": "1db6cfee-59f0-4f38-91f3-d715086a67d0",
   "metadata": {},
   "outputs": [],
   "source": [
    "#.....Question-8......"
   ]
  },
  {
   "cell_type": "code",
   "execution_count": 3,
   "id": "17705290-47c7-45de-8372-b7658699335a",
   "metadata": {},
   "outputs": [
    {
     "name": "stdout",
     "output_type": "stream",
     "text": [
      "<class 'float'>\n"
     ]
    }
   ],
   "source": [
    "price = 9.99\n",
    "print(type(price))   # float data type"
   ]
  },
  {
   "cell_type": "code",
   "execution_count": 4,
   "id": "79c7445c-6e0d-4b89-b726-45537a240b3c",
   "metadata": {},
   "outputs": [],
   "source": [
    "#......Question-9....."
   ]
  },
  {
   "cell_type": "code",
   "execution_count": 5,
   "id": "f264c25b-0819-4bdd-a0f3-e44be96dc1b1",
   "metadata": {},
   "outputs": [
    {
     "name": "stdout",
     "output_type": "stream",
     "text": [
      "sumit kumar paswan\n"
     ]
    }
   ],
   "source": [
    "name = 'sumit kumar paswan'\n",
    "print(name)"
   ]
  },
  {
   "cell_type": "code",
   "execution_count": 6,
   "id": "3357ee7c-e89f-4c67-9a5d-2ad27cfa7fee",
   "metadata": {},
   "outputs": [],
   "source": [
    "#......Question-10......"
   ]
  },
  {
   "cell_type": "code",
   "execution_count": 7,
   "id": "4b0805f7-c87e-46da-bc1b-14a2fa9da482",
   "metadata": {},
   "outputs": [
    {
     "name": "stdout",
     "output_type": "stream",
     "text": [
      "World\n"
     ]
    }
   ],
   "source": [
    "str = \"Hello, World!\"\n",
    "print(str[7:12])"
   ]
  },
  {
   "cell_type": "code",
   "execution_count": 8,
   "id": "f777a0e8-ef38-44f7-b84d-12da235e3d4f",
   "metadata": {},
   "outputs": [],
   "source": [
    "#.....Question-11......"
   ]
  },
  {
   "cell_type": "code",
   "execution_count": 1,
   "id": "5887317b-c441-45b5-b17b-ffb8becd8d18",
   "metadata": {},
   "outputs": [],
   "source": [
    "\n"
   ]
  },
  {
   "cell_type": "code",
   "execution_count": null,
   "id": "330fd586-762f-4aca-b034-bdadbaf91b05",
   "metadata": {},
   "outputs": [],
   "source": []
  },
  {
   "cell_type": "code",
   "execution_count": 2,
   "id": "ce90aa5d-d3e4-4e9c-8eb1-3a5294e78269",
   "metadata": {},
   "outputs": [],
   "source": [
    "#......Question-4......."
   ]
  },
  {
   "cell_type": "code",
   "execution_count": null,
   "id": "960caf28-043c-4610-8f31-e1d512fd306d",
   "metadata": {},
   "outputs": [],
   "source": [
    "# open a command line and type the word python followed by the path to your script file"
   ]
  }
 ],
 "metadata": {
  "kernelspec": {
   "display_name": "Python 3 (ipykernel)",
   "language": "python",
   "name": "python3"
  },
  "language_info": {
   "codemirror_mode": {
    "name": "ipython",
    "version": 3
   },
   "file_extension": ".py",
   "mimetype": "text/x-python",
   "name": "python",
   "nbconvert_exporter": "python",
   "pygments_lexer": "ipython3",
   "version": "3.10.8"
  }
 },
 "nbformat": 4,
 "nbformat_minor": 5
}
